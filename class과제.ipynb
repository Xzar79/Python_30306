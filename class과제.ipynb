{
 "cells": [
  {
   "cell_type": "markdown",
   "metadata": {},
   "source": [
    "# [문제] counter 라는 클래스는\n",
    "- num의 초기값이 0\n",
    "- inc() 메소드를 호출할 때 마다 1씩 증가\n",
    "- reset() num의 초기값을 0으로 세팅\n",
    "- print_cnt() //'현재 num값은 00 이다.'"
   ]
  },
  {
   "cell_type": "code",
   "execution_count": 46,
   "metadata": {},
   "outputs": [],
   "source": [
    "class counter() :\n",
    "    def __init__(self, num = 0) :\n",
    "        self.num = num\n",
    "    def inc(self) :\n",
    "        self.num += 1\n",
    "    def reset(self) :\n",
    "        self.num = 0\n",
    "    def print_cnt(self) :\n",
    "        print('현재 num의 값은', self.num, '이다.')"
   ]
  },
  {
   "cell_type": "code",
   "execution_count": 48,
   "metadata": {},
   "outputs": [],
   "source": [
    "c1 = counter(0)"
   ]
  },
  {
   "cell_type": "code",
   "execution_count": 58,
   "metadata": {},
   "outputs": [
    {
     "name": "stdout",
     "output_type": "stream",
     "text": [
      "현재 num의 값은 5 이다.\n"
     ]
    }
   ],
   "source": [
    "c1.inc()\n",
    "c1.print_cnt()"
   ]
  },
  {
   "cell_type": "code",
   "execution_count": 53,
   "metadata": {},
   "outputs": [],
   "source": [
    "c1.reset()\n"
   ]
  }
 ],
 "metadata": {
  "kernelspec": {
   "display_name": "Python 3",
   "language": "python",
   "name": "python3"
  },
  "language_info": {
   "codemirror_mode": {
    "name": "ipython",
    "version": 3
   },
   "file_extension": ".py",
   "mimetype": "text/x-python",
   "name": "python",
   "nbconvert_exporter": "python",
   "pygments_lexer": "ipython3",
   "version": "3.7.4"
  }
 },
 "nbformat": 4,
 "nbformat_minor": 4
}
