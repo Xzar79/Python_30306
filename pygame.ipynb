{
 "cells": [
  {
   "cell_type": "code",
   "execution_count": 1,
   "metadata": {},
   "outputs": [
    {
     "name": "stdout",
     "output_type": "stream",
     "text": [
      "Requirement already satisfied: pygame in c:\\users\\user\\anaconda3\\lib\\site-packages (1.9.6)\n",
      "Note: you may need to restart the kernel to use updated packages.\n"
     ]
    }
   ],
   "source": [
    "pip install pygame"
   ]
  },
  {
   "cell_type": "code",
   "execution_count": 17,
   "metadata": {},
   "outputs": [
    {
     "ename": "SystemExit",
     "evalue": "",
     "output_type": "error",
     "traceback": [
      "An exception has occurred, use %tb to see the full traceback.\n",
      "\u001b[1;31mSystemExit\u001b[0m\n"
     ]
    },
    {
     "name": "stderr",
     "output_type": "stream",
     "text": [
      "C:\\Users\\user\\Anaconda3\\lib\\site-packages\\IPython\\core\\interactiveshell.py:3334: UserWarning: To exit: use 'exit', 'quit', or Ctrl-D.\n",
      "  warn(\"To exit: use 'exit', 'quit', or Ctrl-D.\", stacklevel=1)\n"
     ]
    }
   ],
   "source": [
    "import sys\n",
    "import pygame\n",
    "from pygame.locals import QUIT\n",
    "\n",
    "pygame.init()\n",
    "\n",
    "SURFACE = pygame.display.set_mode((400, 300)) # 새로 만들어질 창의 가로, 세로 값\n",
    "pygame.display.set_caption('Game Window') # 새로 만들어질 창의 이름을 'Game Window'로 설정\n",
    "\n",
    "def main() :\n",
    "    while True :                        # 반드시 반복\n",
    "        SURFACE.fill((255, 255, 255))    # 새로 만들어질 창의 배경색을 흰색(255, 255, 255)로 정함.\n",
    "    \n",
    "        for event in pygame.event.get() :   # 이벤트를 저장\n",
    "            if event.type == QUIT :     # QUIT라는 이벤트 값일 때,\n",
    "                pygame.quit()               # 초기화를 해제\n",
    "                sys.exit()              # 프로그램 종료\n",
    "            pygame.display.update()     # 내용을 반영한다.\n",
    "    \n",
    "    \n",
    "if __name__=='__main__':\n",
    "    main()"
   ]
  },
  {
   "cell_type": "code",
   "execution_count": 14,
   "metadata": {},
   "outputs": [
    {
     "ename": "SystemExit",
     "evalue": "",
     "output_type": "error",
     "traceback": [
      "An exception has occurred, use %tb to see the full traceback.\n",
      "\u001b[1;31mSystemExit\u001b[0m\n"
     ]
    }
   ],
   "source": [
    "import sys\n",
    "import pygame\n",
    "from pygame.locals import QUIT\n",
    "\n",
    "pygame.init()\n",
    "\n",
    "SURFACE = pygame.display.set_mode((400, 300))    \n",
    "pygame.display.set_caption('Game Window')\n",
    "\n",
    "def main() :\n",
    "    sysfont = pygame.font.SysFont(None, 72)    # 폰트는 없고, 크기는 72pt\n",
    "    message1 = sysfont.render('Hello Python', True, (0, 128, 128))    # 창에 보여질 글씨, 보여짐의 여부, 색상값\n",
    "    \n",
    "    message1_rect = message1.get_rect()    # message1_rect에 message1.get_rect()의 속성을 저장.\n",
    "    message1_rect.center = (200, 100)      # 글자의 중심값을 200, 100에 기준\n",
    "    \n",
    "    while True :\n",
    "        SURFACE.fill((255, 255, 255))\n",
    "        SURFACE.blit(message1, message1_rect)    # 창에 나타냄\n",
    "    \n",
    "        for event in pygame.event.get() :\n",
    "            if event.type == QUIT :\n",
    "                pygame.quit()\n",
    "                sys.exit()\n",
    "            pygame.display.update()\n",
    "    \n",
    "    \n",
    "if __name__=='__main__':\n",
    "    main()"
   ]
  },
  {
   "cell_type": "code",
   "execution_count": 15,
   "metadata": {},
   "outputs": [
    {
     "ename": "SystemExit",
     "evalue": "",
     "output_type": "error",
     "traceback": [
      "An exception has occurred, use %tb to see the full traceback.\n",
      "\u001b[1;31mSystemExit\u001b[0m\n"
     ]
    }
   ],
   "source": [
    "import sys\n",
    "import pygame\n",
    "from pygame.locals import QUIT\n",
    "\n",
    "pygame.init()\n",
    "\n",
    "SURFACE = pygame.display.set_mode((400, 300))\n",
    "pygame.display.set_caption('Game Window')\n",
    "\n",
    "def main() :\n",
    "    sysfont = pygame.font.SysFont(None, 72)\n",
    "    message1 = sysfont.render('Hello Python', True, (0, 128, 128))\n",
    "    message2 = sysfont.render('OK! Python', True, (255, 0, 0))\n",
    "    \n",
    "    message1_rect = message1.get_rect()\n",
    "    message2_rect = message2.get_rect()\n",
    "    message1_rect.center = (200, 100)\n",
    "    message2_rect.center = (200, 200)\n",
    "    while True :\n",
    "        SURFACE.fill((255, 255, 255))\n",
    "        SURFACE.blit(message1, message1_rect)\n",
    "        SURFACE.blit(message2, message2_rect)\n",
    "    \n",
    "        for event in pygame.event.get() :\n",
    "            if event.type == QUIT :\n",
    "                pygame.quit()\n",
    "                sys.exit()\n",
    "            pygame.display.update()\n",
    "    \n",
    "    \n",
    "if __name__=='__main__':\n",
    "    main()"
   ]
  },
  {
   "cell_type": "code",
   "execution_count": 18,
   "metadata": {},
   "outputs": [
    {
     "ename": "SystemExit",
     "evalue": "",
     "output_type": "error",
     "traceback": [
      "An exception has occurred, use %tb to see the full traceback.\n",
      "\u001b[1;31mSystemExit\u001b[0m\n"
     ]
    },
    {
     "name": "stderr",
     "output_type": "stream",
     "text": [
      "C:\\Users\\user\\Anaconda3\\lib\\site-packages\\IPython\\core\\interactiveshell.py:3334: UserWarning: To exit: use 'exit', 'quit', or Ctrl-D.\n",
      "  warn(\"To exit: use 'exit', 'quit', or Ctrl-D.\", stacklevel=1)\n"
     ]
    }
   ],
   "source": [
    "import sys\n",
    "import pygame\n",
    "from pygame.locals import QUIT\n",
    "\n",
    "pygame.init()\n",
    "\n",
    "SURFACE = pygame.display.set_mode((400, 300))\n",
    "pygame.display.set_caption('Game Window')\n",
    "\n",
    "def main() :\n",
    "    sysfont = pygame.font.SysFont(None, 36)\n",
    "    counter = 0\n",
    "    count_image = sysfont.render('Counter is {}'.format(counter), True, (255, 255, 255))\n",
    "    while True :\n",
    "        SURFACE.fill((0, 0, 0))\n",
    "        SURFACE.blit(count_image, (50, 50))\n",
    "    \n",
    "        for event in pygame.event.get() :\n",
    "            if event.type == QUIT :\n",
    "                pygame.quit()\n",
    "                sys.exit()\n",
    "            pygame.display.update()\n",
    "    \n",
    "    \n",
    "if __name__=='__main__':\n",
    "    main()"
   ]
  },
  {
   "cell_type": "code",
   "execution_count": 13,
   "metadata": {},
   "outputs": [
    {
     "ename": "SystemExit",
     "evalue": "",
     "output_type": "error",
     "traceback": [
      "An exception has occurred, use %tb to see the full traceback.\n",
      "\u001b[1;31mSystemExit\u001b[0m\n"
     ]
    }
   ],
   "source": [
    "import sys\n",
    "import pygame\n",
    "from pygame.locals import QUIT, Rect\n",
    "# 객체 생성\n",
    "\n",
    "SURFACE = pygame.display.set_mode((400, 300)) # 새로 만들어질 창의 가로, 세로 값\n",
    "pygame.display.set_caption('Game Window') # 새로 만들어질 창의 이름을 'Game Window'로 설정\n",
    "\n",
    "def main() :\n",
    "    \n",
    "    r = Rect(20, 20, 60, 40)\n",
    "    r.center\n",
    "    r.bottomleft\n",
    "    r.width\n",
    "    r.move(100, 100)\n",
    "\n",
    "    r.move_ip(100, 100)\n",
    "\n",
    "    rect0 = Rect(200, 60, 140, 80)\n",
    "    \n",
    "    while True :                        # 반드시 반복\n",
    "        SURFACE.fill((0, 0, 0))    # 새로 만들어질 창의 배경색을 흰색(255, 255, 255)로 정함.\n",
    "        pygame.draw.rect(SURFACE, (255, 0, 0), (100, 100, 200, 200))\n",
    "        pygame.draw.rect(SURFACE, (0, 255, 0), (50, 50, 100, 100), 3)\n",
    "        pygame.draw.rect(SURFACE, (0, 0, 255), ((100, 80), (80, 50)))\n",
    "        pygame.draw.rect(SURFACE, (255, 255, 0), rect0)\n",
    "    \n",
    "        for event in pygame.event.get() :   # 이벤트를 저장\n",
    "            if event.type == QUIT :     # QUIT라는 이벤트 값일 때,\n",
    "                pygame.quit()               # 초기화를 해제\n",
    "                sys.exit()              # 프로그램 종료\n",
    "            pygame.display.update()     # 내용을 반영한다.\n",
    "    \n",
    "    \n",
    "if __name__=='__main__':\n",
    "    main()"
   ]
  },
  {
   "cell_type": "code",
   "execution_count": 44,
   "metadata": {},
   "outputs": [
    {
     "ename": "SystemExit",
     "evalue": "",
     "output_type": "error",
     "traceback": [
      "An exception has occurred, use %tb to see the full traceback.\n",
      "\u001b[1;31mSystemExit\u001b[0m\n"
     ]
    }
   ],
   "source": [
    "import sys\n",
    "import pygame\n",
    "from pygame.locals import QUIT, Rect\n",
    "# 객체 생성\n",
    "\n",
    "SURFACE = pygame.display.set_mode((400, 300)) # 새로 만들어질 창의 가로, 세로 값\n",
    "pygame.display.set_caption('Game Window') # 새로 만들어질 창의 이름을 'Game Window'로 설정\n",
    "\n",
    "def main() :\n",
    "    \n",
    "    r = Rect(20, 20, 60, 40)\n",
    "    r.center\n",
    "    r.bottomleft\n",
    "    r.width\n",
    "    r.move(100, 100)\n",
    "\n",
    "    r.move_ip(100, 100)\n",
    "\n",
    "    rect0 = Rect(200, 60, 140, 80)\n",
    "    \n",
    "    while True :                        # 반드시 반복\n",
    "        SURFACE.fill((255, 255, 255))    # 새로 만들어질 창의 배경색을 흰색(255, 255, 255)로 정함.\n",
    "        pygame.draw.line(SURFACE, (255, 0, 0), (0, 80), (400, 80)) # (색), (기울기), (어디까지 늘어날지, 기울기)\n",
    "        pygame.draw.line(SURFACE, (0, 0, 255), (10, 150), (200, 150), 15) # 굵기\n",
    "        pygame.draw.line(SURFACE, (0, 255, 0), (250, 30), (250, 200), 30)\n",
    "        pygame.draw.rect(SURFACE, (255, 255, 0), rect0)\n",
    "    \n",
    "        for event in pygame.event.get() :   # 이벤트를 저장\n",
    "            if event.type == QUIT :     # QUIT라는 이벤트 값일 때,\n",
    "                pygame.quit()               # 초기화를 해제\n",
    "                sys.exit()              # 프로그램 종료\n",
    "            pygame.display.update()     # 내용을 반영한다.\n",
    "    \n",
    "    \n",
    "if __name__=='__main__':\n",
    "    main()"
   ]
  },
  {
   "cell_type": "code",
   "execution_count": 29,
   "metadata": {},
   "outputs": [
    {
     "ename": "SystemExit",
     "evalue": "",
     "output_type": "error",
     "traceback": [
      "An exception has occurred, use %tb to see the full traceback.\n",
      "\u001b[1;31mSystemExit\u001b[0m\n"
     ]
    }
   ],
   "source": [
    "import sys\n",
    "import pygame\n",
    "from pygame.locals import QUIT, Rect\n",
    "# 객체 생성\n",
    "\n",
    "SURFACE = pygame.display.set_mode((400, 300)) # 새로 만들어질 창의 가로, 세로 값\n",
    "pygame.display.set_caption('Game Window') # 새로 만들어질 창의 이름을 'Game Window'로 설정\n",
    "\n",
    "def main() :\n",
    "    \n",
    "    r = Rect(20, 20, 60, 40)\n",
    "    r.center\n",
    "    r.bottomleft\n",
    "    r.width\n",
    "    r.move(100, 100)\n",
    "\n",
    "    r.move_ip(100, 100)\n",
    "\n",
    "    rect0 = Rect(200, 60, 140, 80)\n",
    "    pygame.draw.rect(SURFACE, (255, 255, 0), rect0)\n",
    "    \n",
    "    while True :                        # 반드시 반복\n",
    "        SURFACE.fill((255, 255, 255))    # 새로 만들어질 창의 배경색을 흰색(255, 255, 255)로 정함.\n",
    "        pygame.draw.circle(SURFACE, (255, 0, 255), (50, 250), 10)\n",
    "        pygame.draw.circle(SURFACE, (0, 255, 0), (150, 250), 20)\n",
    "        pygame.draw.circle(SURFACE, (255, 255, 0), (250, 250), 30)\n",
    "        pygame.draw.circle(SURFACE, (255, 255, 0), (50, 50), 20)\n",
    "        pygame.draw.circle(SURFACE, (255, 255, 0), (150, 50), 20, 5) # 원 (R, G, B), (X좌표, Y좌표), 크기, 테두리 굵기\n",
    "    \n",
    "        for event in pygame.event.get() :   # 이벤트를 저장\n",
    "            if event.type == QUIT :     # QUIT라는 이벤트 값일 때,\n",
    "                pygame.quit()               # 초기화를 해제\n",
    "                sys.exit()              # 프로그램 종료\n",
    "            pygame.display.update()     # 내용을 반영한다.\n",
    "    \n",
    "    \n",
    "if __name__=='__main__':\n",
    "    main()"
   ]
  },
  {
   "cell_type": "code",
   "execution_count": 12,
   "metadata": {},
   "outputs": [
    {
     "ename": "SystemExit",
     "evalue": "",
     "output_type": "error",
     "traceback": [
      "An exception has occurred, use %tb to see the full traceback.\n",
      "\u001b[1;31mSystemExit\u001b[0m\n"
     ]
    }
   ],
   "source": [
    "import sys\n",
    "import pygame\n",
    "from pygame.locals import QUIT, Rect\n",
    "# 객체 생성\n",
    "\n",
    "SURFACE = pygame.display.set_mode((400, 300)) # 새로 만들어질 창의 가로, 세로 값\n",
    "pygame.display.set_caption('Game Window') # 새로 만들어질 창의 이름을 'Game Window'로 설정\n",
    "\n",
    "def main() :\n",
    "    \n",
    "    r = Rect(20, 20, 60, 40)\n",
    "    r.center\n",
    "    r.bottomleft\n",
    "    r.width\n",
    "    r.move(100, 100)\n",
    "\n",
    "    r.move_ip(100, 100)\n",
    "\n",
    "    rect0 = Rect(200, 60, 140, 80)\n",
    "    pygame.draw.rect(SURFACE, (255, 255, 0), rect0)\n",
    "    \n",
    "    while True :                        # 반드시 반복\n",
    "        SURFACE.fill((255, 255, 255))    # 새로 만들어질 창의 배경색을 흰색(255, 255, 255)로 정함.\n",
    "        for xpos in range(0, 400, 25) :\n",
    "            pygame.draw.line(SURFACE, (0, 0, 0), (xpos, 0), (xpos, 800))\n",
    "            \n",
    "        for ypos in range(0, 300, 25) :\n",
    "            pygame.draw.line(SURFACE, (0, 0, 0), (0, ypos), (400, ypos))\n",
    "        \n",
    "    \n",
    "        for event in pygame.event.get() :   # 이벤트를 저장\n",
    "            if event.type == QUIT :     # QUIT라는 이벤트 값일 때,\n",
    "                pygame.quit()               # 초기화를 해제\n",
    "                sys.exit()              # 프로그램 종료\n",
    "            pygame.display.update()     # 내용을 반영한다.\n",
    "    \n",
    "    \n",
    "if __name__=='__main__':\n",
    "    main()"
   ]
  }
 ],
 "metadata": {
  "kernelspec": {
   "display_name": "Python 3",
   "language": "python",
   "name": "python3"
  },
  "language_info": {
   "codemirror_mode": {
    "name": "ipython",
    "version": 3
   },
   "file_extension": ".py",
   "mimetype": "text/x-python",
   "name": "python",
   "nbconvert_exporter": "python",
   "pygments_lexer": "ipython3",
   "version": "3.7.4"
  }
 },
 "nbformat": 4,
 "nbformat_minor": 2
}
