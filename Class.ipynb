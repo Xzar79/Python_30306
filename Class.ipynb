{
 "cells": [
  {
   "cell_type": "markdown",
   "metadata": {},
   "source": [
    "# Class\n",
    "- 실세계의 모든 것을 모델링하여 속성과 동작을 갖는 데이터 타입\n",
    "- 파이썬에서 문자, 스트링, 리스트, dict 등"
   ]
  },
  {
   "cell_type": "code",
   "execution_count": 5,
   "metadata": {},
   "outputs": [
    {
     "name": "stdout",
     "output_type": "stream",
     "text": [
      "[1, 2, 3, 4, 5, 6]\n"
     ]
    }
   ],
   "source": [
    "a = [1,2,3,4,5]\n",
    "a.append(6)\n",
    "print(a)"
   ]
  },
  {
   "cell_type": "code",
   "execution_count": 6,
   "metadata": {},
   "outputs": [],
   "source": [
    "class test() :\n",
    "    pass\n",
    "def test2() :\n",
    "    pass"
   ]
  },
  {
   "cell_type": "code",
   "execution_count": 7,
   "metadata": {},
   "outputs": [],
   "source": [
    "class person :\n",
    "    pass\n"
   ]
  },
  {
   "cell_type": "code",
   "execution_count": 9,
   "metadata": {},
   "outputs": [],
   "source": [
    "bob = person()\n",
    "kim = person()"
   ]
  },
  {
   "cell_type": "code",
   "execution_count": 13,
   "metadata": {},
   "outputs": [],
   "source": [
    "a = list()\n",
    "b = dict()"
   ]
  },
  {
   "cell_type": "code",
   "execution_count": 15,
   "metadata": {},
   "outputs": [
    {
     "data": {
      "text/plain": [
       "(list, dict)"
      ]
     },
     "execution_count": 15,
     "metadata": {},
     "output_type": "execute_result"
    }
   ],
   "source": [
    "type(a), type(b)"
   ]
  },
  {
   "cell_type": "code",
   "execution_count": 36,
   "metadata": {},
   "outputs": [],
   "source": [
    "class person() :\n",
    "    def __init__(self, name, age = 5) :\n",
    "        print(self, 'life is good')\n",
    "        self.name = name\n",
    "        self.age = age\n"
   ]
  },
  {
   "cell_type": "code",
   "execution_count": 23,
   "metadata": {},
   "outputs": [
    {
     "name": "stdout",
     "output_type": "stream",
     "text": [
      "<__main__.person object at 0x000002622B9DB388> life is good\n"
     ]
    }
   ],
   "source": [
    "p1 = person()"
   ]
  },
  {
   "cell_type": "code",
   "execution_count": 24,
   "metadata": {},
   "outputs": [
    {
     "name": "stdout",
     "output_type": "stream",
     "text": [
      "kim\n"
     ]
    }
   ],
   "source": [
    "print(p1.name)"
   ]
  },
  {
   "cell_type": "code",
   "execution_count": 26,
   "metadata": {},
   "outputs": [
    {
     "name": "stdout",
     "output_type": "stream",
     "text": [
      "19\n"
     ]
    }
   ],
   "source": [
    "print(p1.age)"
   ]
  },
  {
   "cell_type": "code",
   "execution_count": 28,
   "metadata": {},
   "outputs": [
    {
     "name": "stdout",
     "output_type": "stream",
     "text": [
      "허호정\n"
     ]
    }
   ],
   "source": [
    "p1.name = '허호정'\n",
    "print(p1.name)"
   ]
  },
  {
   "cell_type": "code",
   "execution_count": 37,
   "metadata": {},
   "outputs": [
    {
     "name": "stdout",
     "output_type": "stream",
     "text": [
      "<__main__.person object at 0x000002622BA6BFC8> life is good\n",
      "<__main__.person object at 0x000002622BA6BF88> life is good\n",
      "<__main__.person object at 0x000002622BA6B388> life is good\n",
      "허대범 30\n",
      "김재홍 45\n",
      "박가현 5\n"
     ]
    }
   ],
   "source": [
    "p1 = person('허대범', 30)\n",
    "p2 = person('김재홍', 45)\n",
    "p3 = person('박가현')\n",
    "print(p1.name, p1.age)\n",
    "print(p2.name, p2.age)\n",
    "print(p3.name, p3.age)"
   ]
  },
  {
   "cell_type": "code",
   "execution_count": 53,
   "metadata": {},
   "outputs": [],
   "source": [
    "class person() :\n",
    "    # 객체가 생성되는 순간\n",
    "    def __init__(self, name, age = 5) :\n",
    "        self.name = name\n",
    "        self.age = age\n",
    "    def sleep(self) :\n",
    "        print('self : ', self)\n",
    "        # 박가현은 숨쉰채 변싼채로 발견된다.\n",
    "        \n",
    "        print(self.name+'은 잠을 잔다.')"
   ]
  },
  {
   "cell_type": "code",
   "execution_count": 55,
   "metadata": {},
   "outputs": [
    {
     "name": "stdout",
     "output_type": "stream",
     "text": [
      "self :  <__main__.person object at 0x000002622BA36688>\n",
      "박가현은 잠을 잔다.\n"
     ]
    }
   ],
   "source": [
    "p5 = person('박가현', 20)\n",
    "p5.sleep()"
   ]
  },
  {
   "cell_type": "code",
   "execution_count": 79,
   "metadata": {},
   "outputs": [],
   "source": [
    "class person() :\n",
    "    # 객체가 생성되는 순간\n",
    "    def __init__(self, name, age = 5, time = 10) :\n",
    "        self.name = name\n",
    "        self.age = age\n",
    "        self.time = time\n",
    "    def sleep(self) :\n",
    "        print('self : ', self)\n",
    "        # 박가현은 숨쉰채 변싼채로 발견된다.\n",
    "        print(self.name+'은 잠을 잔다.')\n",
    "        \n",
    "    def game(self) :\n",
    "        \n",
    "        print(self.name,'은', self.time,'시간 동안 게임을 했다.')"
   ]
  },
  {
   "cell_type": "code",
   "execution_count": 81,
   "metadata": {},
   "outputs": [
    {
     "name": "stdout",
     "output_type": "stream",
     "text": [
      "박가현 은 199999 시간 동안 게임을 했다.\n"
     ]
    }
   ],
   "source": [
    "p6 = person('박가현', 50, 199999)\n",
    "p6.game(50)"
   ]
  },
  {
   "cell_type": "code",
   "execution_count": 99,
   "metadata": {},
   "outputs": [],
   "source": [
    "class person() :\n",
    "    # 객체가 생성되는 순간\n",
    "    def __init__(self, name, age) :\n",
    "        self.name = name\n",
    "        self.age = age\n",
    "        \n",
    "        \n",
    "    def eat(self, food) :\n",
    "        print('{}은(는) 어제 {}을 먹었다.'.format(self.name, food))\n",
    "    \n",
    "    \n",
    "    def sleep(self, time) :\n",
    "        self.time = time\n",
    "        print('{}은(는) 어제 {}시간동안 잤다.'.format(self.name, self.time))\n",
    "        \n",
    "    def go(self, job) :\n",
    "        self.job = job\n",
    "        print('{}은(는) 졸업후 {}에 다닌다'.format(self.name, self.job))"
   ]
  },
  {
   "cell_type": "code",
   "execution_count": 100,
   "metadata": {},
   "outputs": [
    {
     "name": "stdout",
     "output_type": "stream",
     "text": [
      "김환은(는) 어제 치킨을 먹었다.\n",
      "김환은(는) 어제 23시간동안 잤다.\n",
      "김환은(는) 졸업후 인하대학교 컴퓨터공학과에 다닌다\n"
     ]
    }
   ],
   "source": [
    "p7 = person('김환', 20)\n",
    "p7.eat('치킨')\n",
    "p7.sleep(23)\n",
    "p7.go('인하대학교 컴퓨터공학과')"
   ]
  },
  {
   "cell_type": "code",
   "execution_count": 110,
   "metadata": {},
   "outputs": [],
   "source": [
    "class person() :\n",
    "    # 객체가 생성되는 순간\n",
    "    def __init__(self, name, age) :\n",
    "        self.name = name\n",
    "        self.age = age\n",
    "        \n",
    "        \n",
    "    def eat(self, food) :\n",
    "        print('{}은(는) 어제 {}을 먹었다.'.format(self.name, food))\n",
    "    \n",
    "    \n",
    "    def sleep(self, time) :\n",
    "        self.time = time\n",
    "        print('{}은(는) 어제 {}시간동안 잤다.'.format(self.name, self.time))\n",
    "        \n",
    "    def go(self, job) :\n",
    "        self.job = job\n",
    "        print('{}은(는) 졸업후 {}에 다닌다'.format(self.name, self.job))\n",
    "        \n",
    "class student(person) :\n",
    "    def __init__(self, name, age) :\n",
    "        self.name = name\n",
    "        self.age = age\n",
    "    def sleep(self, time) :\n",
    "        super().sleep(time) #오버라이딩\n",
    "        print('{}은(는) 오늘 {}시간동안 잘거다.'.format(self.name, time))\n",
    "\n",
    "class Employee(person) :\n",
    "    def go(self, job) :\n",
    "        super().go(job)\n",
    "        print('{}은(는) {}를 졸업해서 삼성에 취업했다.'.format(self.name, job))"
   ]
  },
  {
   "cell_type": "code",
   "execution_count": 112,
   "metadata": {},
   "outputs": [
    {
     "name": "stdout",
     "output_type": "stream",
     "text": [
      "김환은(는) 어제 치킨을 먹었다.\n",
      "김환은(는) 어제 23시간동안 잤다.\n",
      "김환은(는) 오늘 23시간동안 잘거다.\n",
      "김환은(는) 졸업후 인하대학교 컴퓨터공학과에 다닌다\n"
     ]
    }
   ],
   "source": [
    "p8 = student('김환', 20)\n",
    "p8.eat('치킨')\n",
    "p8.sleep(23)\n",
    "p8.go('인하대학교 컴퓨터공학과')"
   ]
  },
  {
   "cell_type": "code",
   "execution_count": 113,
   "metadata": {},
   "outputs": [
    {
     "name": "stdout",
     "output_type": "stream",
     "text": [
      "김환은(는) 어제 치킨을 먹었다.\n",
      "김환은(는) 어제 23시간동안 잤다.\n",
      "김환은(는) 졸업후 인하대학교 컴퓨터공학과에 다닌다\n",
      "김환은(는) 인하대학교 컴퓨터공학과를 졸업해서 삼성에 취업했다.\n"
     ]
    }
   ],
   "source": [
    "p9 = Employee('김환', 20)\n",
    "p9.eat('치킨')\n",
    "p9.sleep(23)\n",
    "p9.go('인하대학교 컴퓨터공학과')"
   ]
  }
 ],
 "metadata": {
  "kernelspec": {
   "display_name": "Python 3",
   "language": "python",
   "name": "python3"
  },
  "language_info": {
   "codemirror_mode": {
    "name": "ipython",
    "version": 3
   },
   "file_extension": ".py",
   "mimetype": "text/x-python",
   "name": "python",
   "nbconvert_exporter": "python",
   "pygments_lexer": "ipython3",
   "version": "3.7.4"
  }
 },
 "nbformat": 4,
 "nbformat_minor": 4
}
