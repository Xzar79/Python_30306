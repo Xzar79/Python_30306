{
 "cells": [
  {
   "cell_type": "markdown",
   "metadata": {},
   "source": [
    "# 30306"
   ]
  },
  {
   "cell_type": "markdown",
   "metadata": {},
   "source": [
    "# 주제 : 지역마다 다른 청소년문화시설을 비교해보자."
   ]
  },
  {
   "cell_type": "markdown",
   "metadata": {},
   "source": [
    "# 출처 : https://www.data.go.kr/data/15040071/fileData.do\n",
    "\n",
    "# 출처2 : https://www.data.go.kr/data/3038809/fileData.do\n",
    "\n",
    "출처1\n",
    "- 분류체계 : 사회복지 - 노인·청소년\n",
    "- 제공기관 : 인천광역시 서구\n",
    "- 차기 등록 예정일 : 2020-09-27\n",
    "\n",
    "출처2\n",
    "- 분류체계 : 사회복지 - 노인·청소년\n",
    "- 제공기관 : 경기도 부천시\n",
    "- 차기 등록 예정일 : 2020-09-17"
   ]
  },
  {
   "cell_type": "code",
   "execution_count": 129,
   "metadata": {},
   "outputs": [],
   "source": [
    "import pandas as pd\n",
    "path=r'C:\\Users\\user\\Desktop\\30306김환(수행)\\경기도_부천시_청소년수련시설_20190916..csv'\n",
    "path2=r'C:\\Users\\user\\Desktop\\30306김환(수행)\\인천광역시_서구_청소년수련시설현황_201909..csv'\n",
    "df = pd.read_csv(path, encoding = 'cp949')\n",
    "df2 = pd.read_csv(path2, encoding = 'cp949')\n",
    "import matplotlib.pyplot as plt\n",
    "from matplotlib import rc\n",
    "rc('font', family='gulim')"
   ]
  },
  {
   "cell_type": "code",
   "execution_count": 130,
   "metadata": {
    "scrolled": true
   },
   "outputs": [
    {
     "data": {
      "text/html": [
       "<div>\n",
       "<style scoped>\n",
       "    .dataframe tbody tr th:only-of-type {\n",
       "        vertical-align: middle;\n",
       "    }\n",
       "\n",
       "    .dataframe tbody tr th {\n",
       "        vertical-align: top;\n",
       "    }\n",
       "\n",
       "    .dataframe thead th {\n",
       "        text-align: right;\n",
       "    }\n",
       "</style>\n",
       "<table border=\"1\" class=\"dataframe\">\n",
       "  <thead>\n",
       "    <tr style=\"text-align: right;\">\n",
       "      <th></th>\n",
       "      <th>카운트</th>\n",
       "      <th>청소년수련시설의 종류</th>\n",
       "      <th>시설명</th>\n",
       "      <th>소재지</th>\n",
       "      <th>연락처</th>\n",
       "      <th>운영 사업(프로그램)</th>\n",
       "      <th>홈페이지(블로그)</th>\n",
       "    </tr>\n",
       "  </thead>\n",
       "  <tbody>\n",
       "    <tr>\n",
       "      <td>0</td>\n",
       "      <td>1</td>\n",
       "      <td>수련관</td>\n",
       "      <td>부천시청소년수련관</td>\n",
       "      <td>장말로 107 (복사골문화센터 2층)</td>\n",
       "      <td>032-325-4300</td>\n",
       "      <td>청소년 문화예술 동아리, 청소년 공정여행 길위의 인생학교, 청소년 공연지원사업 등</td>\n",
       "      <td>youth.bcf.or.kr</td>\n",
       "    </tr>\n",
       "    <tr>\n",
       "      <td>1</td>\n",
       "      <td>2</td>\n",
       "      <td>수련관</td>\n",
       "      <td>산울림청소년수련관</td>\n",
       "      <td>역곡로 149-65(춘의동)</td>\n",
       "      <td>032-344-4480</td>\n",
       "      <td>상상학교, 오감충전 여가활동, 오리엔티어링대회 등</td>\n",
       "      <td>www.echoyouth.or.kr</td>\n",
       "    </tr>\n",
       "    <tr>\n",
       "      <td>2</td>\n",
       "      <td>3</td>\n",
       "      <td>수련관</td>\n",
       "      <td>소사청소년수련관</td>\n",
       "      <td>소사동로 125(괴안동)</td>\n",
       "      <td>032-344-0720</td>\n",
       "      <td>가족 야영캠프, 청소년국제성취포상제, 메이커스 프로그램 등</td>\n",
       "      <td>www.sosayouth.or.kr</td>\n",
       "    </tr>\n",
       "    <tr>\n",
       "      <td>3</td>\n",
       "      <td>1</td>\n",
       "      <td>센터</td>\n",
       "      <td>부천여성청소년센터</td>\n",
       "      <td>부천로122번길 60(원미동)</td>\n",
       "      <td>032-665-0925</td>\n",
       "      <td>청소년 마을참여연구소,  진로휴먼 북카페, 축제기획단 흥부자 등</td>\n",
       "      <td>www.vomul.or.kr</td>\n",
       "    </tr>\n",
       "    <tr>\n",
       "      <td>4</td>\n",
       "      <td>1</td>\n",
       "      <td>문화의집</td>\n",
       "      <td>고리울청소년문화의집</td>\n",
       "      <td>고강로132번길 28(고강동)</td>\n",
       "      <td>032-682-1886</td>\n",
       "      <td>24초 영화제, 공연만개, 부천-가와사키 청소년교류 등</td>\n",
       "      <td>www.kumayouth.or.kr</td>\n",
       "    </tr>\n",
       "    <tr>\n",
       "      <td>5</td>\n",
       "      <td>2</td>\n",
       "      <td>문화의집</td>\n",
       "      <td>송내동청소년문화의집</td>\n",
       "      <td>경인로92번길 33(송내어울마당 3층)</td>\n",
       "      <td>032-656-8085</td>\n",
       "      <td>· 우리동네 이색놀이터, Up &amp; Down, 아시아국제교류 프로젝트 등</td>\n",
       "      <td>www.sndyouth.or.kr</td>\n",
       "    </tr>\n",
       "  </tbody>\n",
       "</table>\n",
       "</div>"
      ],
      "text/plain": [
       "   카운트 청소년수련시설의 종류         시설명                    소재지           연락처  \\\n",
       "0    1         수련관   부천시청소년수련관   장말로 107 (복사골문화센터 2층)  032-325-4300   \n",
       "1    2         수련관   산울림청소년수련관        역곡로 149-65(춘의동)  032-344-4480   \n",
       "2    3         수련관    소사청소년수련관          소사동로 125(괴안동)  032-344-0720   \n",
       "3    1          센터   부천여성청소년센터       부천로122번길 60(원미동)  032-665-0925   \n",
       "4    1        문화의집  고리울청소년문화의집       고강로132번길 28(고강동)  032-682-1886   \n",
       "5    2        문화의집  송내동청소년문화의집  경인로92번길 33(송내어울마당 3층)  032-656-8085   \n",
       "\n",
       "                                     운영 사업(프로그램)            홈페이지(블로그)  \n",
       "0  청소년 문화예술 동아리, 청소년 공정여행 길위의 인생학교, 청소년 공연지원사업 등      youth.bcf.or.kr  \n",
       "1                    상상학교, 오감충전 여가활동, 오리엔티어링대회 등  www.echoyouth.or.kr  \n",
       "2               가족 야영캠프, 청소년국제성취포상제, 메이커스 프로그램 등  www.sosayouth.or.kr  \n",
       "3            청소년 마을참여연구소,  진로휴먼 북카페, 축제기획단 흥부자 등      www.vomul.or.kr  \n",
       "4                 24초 영화제, 공연만개, 부천-가와사키 청소년교류 등  www.kumayouth.or.kr  \n",
       "5        · 우리동네 이색놀이터, Up & Down, 아시아국제교류 프로젝트 등   www.sndyouth.or.kr  "
      ]
     },
     "execution_count": 130,
     "metadata": {},
     "output_type": "execute_result"
    }
   ],
   "source": [
    "pd.DataFrame(df)"
   ]
  },
  {
   "cell_type": "code",
   "execution_count": 131,
   "metadata": {},
   "outputs": [
    {
     "data": {
      "text/html": [
       "<div>\n",
       "<style scoped>\n",
       "    .dataframe tbody tr th:only-of-type {\n",
       "        vertical-align: middle;\n",
       "    }\n",
       "\n",
       "    .dataframe tbody tr th {\n",
       "        vertical-align: top;\n",
       "    }\n",
       "\n",
       "    .dataframe thead th {\n",
       "        text-align: right;\n",
       "    }\n",
       "</style>\n",
       "<table border=\"1\" class=\"dataframe\">\n",
       "  <thead>\n",
       "    <tr style=\"text-align: right;\">\n",
       "      <th></th>\n",
       "      <th>카운트</th>\n",
       "      <th>청소년수련시설의 종류</th>\n",
       "      <th>공공민간구분</th>\n",
       "      <th>시설명</th>\n",
       "      <th>운영단체</th>\n",
       "      <th>소재지도로명주소</th>\n",
       "      <th>청소년지도사(명)</th>\n",
       "      <th>수용정원수</th>\n",
       "      <th>홈페이지주소</th>\n",
       "      <th>전화번호</th>\n",
       "      <th>데이터기준일자</th>\n",
       "      <th>운영 사업(프로그램)</th>\n",
       "    </tr>\n",
       "  </thead>\n",
       "  <tbody>\n",
       "    <tr>\n",
       "      <td>0</td>\n",
       "      <td>1</td>\n",
       "      <td>수련관</td>\n",
       "      <td>공공</td>\n",
       "      <td>서구청소년수련관</td>\n",
       "      <td>인천서구시설관리공단</td>\n",
       "      <td>인천 서구 원창로 92(원창동)</td>\n",
       "      <td>38</td>\n",
       "      <td>498</td>\n",
       "      <td>http://www.issi.or.kr/youth/design/index.asp</td>\n",
       "      <td>032-577-7979</td>\n",
       "      <td>2019-09-27</td>\n",
       "      <td>공연장(216석), 수영장(성인·유아풀), 강의실(2개), 뷰티아트실, 제과제빵실 등</td>\n",
       "    </tr>\n",
       "    <tr>\n",
       "      <td>1</td>\n",
       "      <td>1</td>\n",
       "      <td>문화의집</td>\n",
       "      <td>공공</td>\n",
       "      <td>연희청소년문화의집</td>\n",
       "      <td>인천서구시설관리공단</td>\n",
       "      <td>인천 서구 승학로 264(심곡동)</td>\n",
       "      <td>7</td>\n",
       "      <td>213</td>\n",
       "      <td>http://www.issi.or.kr/yhyouth/design/index.asp</td>\n",
       "      <td>032-561-5566</td>\n",
       "      <td>2019-09-27</td>\n",
       "      <td>운영사무실, 북카페, 인터넷카페, 영화감상실1,2 등</td>\n",
       "    </tr>\n",
       "    <tr>\n",
       "      <td>2</td>\n",
       "      <td>2</td>\n",
       "      <td>문화의집</td>\n",
       "      <td>공공</td>\n",
       "      <td>가좌청소년문화의집</td>\n",
       "      <td>인천서구시설관리공단</td>\n",
       "      <td>인천 서구 원적로7번길 12(가좌동)</td>\n",
       "      <td>11</td>\n",
       "      <td>301</td>\n",
       "      <td>http://www.issi.or.kr/house/design/index.asp</td>\n",
       "      <td>032-580-1190</td>\n",
       "      <td>2019-09-27</td>\n",
       "      <td>플레이존, 웹디자인실, 창작디자인실, 방송스튜디오, 메이커스Lab, 다목적강당, 북...</td>\n",
       "    </tr>\n",
       "    <tr>\n",
       "      <td>3</td>\n",
       "      <td>3</td>\n",
       "      <td>문화의집</td>\n",
       "      <td>공공</td>\n",
       "      <td>검단청소년문화의집</td>\n",
       "      <td>인천서구시설관리공단</td>\n",
       "      <td>인천 서구 완정로188번길 3(마전동)</td>\n",
       "      <td>7</td>\n",
       "      <td>205</td>\n",
       "      <td>www.issi.or.kr/gdyouth/</td>\n",
       "      <td>032-569-2335</td>\n",
       "      <td>2019-09-27</td>\n",
       "      <td>DVD&amp;노래방, 도서실, 밴드연습실, 다목적실, 강의실, 청소년운영위원회실 등</td>\n",
       "    </tr>\n",
       "  </tbody>\n",
       "</table>\n",
       "</div>"
      ],
      "text/plain": [
       "   카운트 청소년수련시설의 종류 공공민간구분        시설명        운영단체               소재지도로명주소  \\\n",
       "0    1         수련관     공공   서구청소년수련관  인천서구시설관리공단      인천 서구 원창로 92(원창동)   \n",
       "1    1        문화의집     공공  연희청소년문화의집  인천서구시설관리공단     인천 서구 승학로 264(심곡동)   \n",
       "2    2        문화의집     공공  가좌청소년문화의집  인천서구시설관리공단   인천 서구 원적로7번길 12(가좌동)   \n",
       "3    3        문화의집     공공  검단청소년문화의집  인천서구시설관리공단  인천 서구 완정로188번길 3(마전동)   \n",
       "\n",
       "   청소년지도사(명)  수용정원수                                          홈페이지주소  \\\n",
       "0         38    498    http://www.issi.or.kr/youth/design/index.asp   \n",
       "1          7    213  http://www.issi.or.kr/yhyouth/design/index.asp   \n",
       "2         11    301    http://www.issi.or.kr/house/design/index.asp   \n",
       "3          7    205                         www.issi.or.kr/gdyouth/   \n",
       "\n",
       "           전화번호     데이터기준일자                                        운영 사업(프로그램)  \n",
       "0  032-577-7979  2019-09-27    공연장(216석), 수영장(성인·유아풀), 강의실(2개), 뷰티아트실, 제과제빵실 등  \n",
       "1  032-561-5566  2019-09-27                      운영사무실, 북카페, 인터넷카페, 영화감상실1,2 등  \n",
       "2  032-580-1190  2019-09-27  플레이존, 웹디자인실, 창작디자인실, 방송스튜디오, 메이커스Lab, 다목적강당, 북...  \n",
       "3  032-569-2335  2019-09-27        DVD&노래방, 도서실, 밴드연습실, 다목적실, 강의실, 청소년운영위원회실 등  "
      ]
     },
     "execution_count": 131,
     "metadata": {},
     "output_type": "execute_result"
    }
   ],
   "source": [
    "pd.DataFrame(df2)"
   ]
  },
  {
   "cell_type": "markdown",
   "metadata": {},
   "source": [
    "# 인천 서구와 경기도 부천시의 수련기관 개수와 종류 비교"
   ]
  },
  {
   "cell_type": "code",
   "execution_count": 133,
   "metadata": {},
   "outputs": [],
   "source": [
    "a = df['카운트']\n",
    "b = df['청소년수련시설의 종류']\n",
    "c = df2['카운트']\n",
    "d = df2['청소년수련시설의 종류']"
   ]
  },
  {
   "cell_type": "code",
   "execution_count": 144,
   "metadata": {
    "scrolled": true
   },
   "outputs": [
    {
     "data": {
      "text/plain": [
       "<matplotlib.legend.Legend at 0x298dc35e608>"
      ]
     },
     "execution_count": 144,
     "metadata": {},
     "output_type": "execute_result"
    },
    {
     "data": {
      "image/png": "[encoded data removed]",
      "text/plain": [
       "<Figure size 432x288 with 2 Axes>"
      ]
     },
     "metadata": {
      "needs_background": "light"
     },
     "output_type": "display_data"
    }
   ],
   "source": [
    "plt.subplot(1, 2, 1)\n",
    "plt.bar(b, a, color = 'skyblue')\n",
    "plt.ylabel('개수')\n",
    "plt.xlabel('종류')\n",
    "plt.legend('경기도 부천시')\n",
    "plt.subplot(1, 3, 3)\n",
    "plt.bar(d, c, color = 'green')\n",
    "plt.ylabel('개수')\n",
    "plt.xlabel('종류')\n",
    "plt.legend('인천 서구')"
   ]
  },
  {
   "cell_type": "markdown",
   "metadata": {},
   "source": [
    "# 서구청소년수련관, 부천시청소년수련관의 주요 시설 및 프로그램 비교"
   ]
  },
  {
   "cell_type": "code",
   "execution_count": 147,
   "metadata": {},
   "outputs": [
    {
     "name": "stdout",
     "output_type": "stream",
     "text": [
      "0    청소년 문화예술 동아리, 청소년 공정여행 길위의 인생학교, 청소년 공연지원사업 등\n",
      "Name: 운영 사업(프로그램), dtype: object\n",
      "0    공연장(216석), 수영장(성인·유아풀), 강의실(2개), 뷰티아트실, 제과제빵실 등\n",
      "Name: 운영 사업(프로그램), dtype: object\n"
     ]
    }
   ],
   "source": [
    "k=df.head(1)['운영 사업(프로그램)']\n",
    "j=df2.head(1)['운영 사업(프로그램)']\n",
    "print(k)\n",
    "print(j)"
   ]
  },
  {
   "cell_type": "markdown",
   "metadata": {},
   "source": [
    "# 학생들의 놀거리가 피시방, 노래방 외 마땅히 없는 것 같아 청소년수련관의 데이터를 찾아보았지만 데이터 자체가 많지 않았다. 때문에 운영 사업이나 주요 시설은 홈페이지에 직접 들어가서 찾아보고 파일에 넣은 것이다. 지금 학생들이 모여서 노는 장소를 정부측에서는 제대로 마련을 해주긴 할까 의문이다. 학생이라고 기계처럼 공부만 할 수 없고, 좀 더 맘편히 쉴 수 있는 공간을 만드는 계획을 추진했으면 좋겠다."
   ]
  }
 ],
 "metadata": {
  "kernelspec": {
   "display_name": "Python 3",
   "language": "python",
   "name": "python3"
  },
  "language_info": {
   "codemirror_mode": {
    "name": "ipython",
    "version": 3
   },
   "file_extension": ".py",
   "mimetype": "text/x-python",
   "name": "python",
   "nbconvert_exporter": "python",
   "pygments_lexer": "ipython3",
   "version": "3.7.4"
  }
 },
 "nbformat": 4,
 "nbformat_minor": 2
}
