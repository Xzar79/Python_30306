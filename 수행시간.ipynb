{
 "cells": [
  {
   "cell_type": "markdown",
   "metadata": {},
   "source": [
    "# 수행시간"
   ]
  },
  {
   "cell_type": "code",
   "execution_count": 25,
   "metadata": {},
   "outputs": [],
   "source": [
    "import time\n",
    "now = time.time()"
   ]
  },
  {
   "cell_type": "code",
   "execution_count": 26,
   "metadata": {},
   "outputs": [],
   "source": [
    "now = time.gmtime(now)"
   ]
  },
  {
   "cell_type": "code",
   "execution_count": 27,
   "metadata": {},
   "outputs": [
    {
     "name": "stdout",
     "output_type": "stream",
     "text": [
      "2020 11 3\n",
      "0 11 48\n"
     ]
    }
   ],
   "source": [
    "print(now.tm_year, now.tm_mon, now.tm_mday)\n",
    "print(now.tm_hour, now.tm_min, now.tm_sec)"
   ]
  },
  {
   "cell_type": "code",
   "execution_count": 28,
   "metadata": {},
   "outputs": [
    {
     "data": {
      "text/plain": [
       "datetime.datetime(2020, 11, 3, 9, 11, 53, 157921)"
      ]
     },
     "execution_count": 28,
     "metadata": {},
     "output_type": "execute_result"
    }
   ],
   "source": [
    "from datetime import datetime\n",
    "datetime.now()"
   ]
  },
  {
   "cell_type": "code",
   "execution_count": 46,
   "metadata": {},
   "outputs": [
    {
     "name": "stdout",
     "output_type": "stream",
     "text": [
      "수행시간 :  0.0009975433349609375\n"
     ]
    }
   ],
   "source": [
    "from random import randint\n",
    "import time\n",
    "array=[]\n",
    "\n",
    "for i in range(10):\n",
    "    array.append(randint(1, 100))\n",
    "# print(array)\n",
    "start_time = time.time()\n",
    "\n",
    "for i in range(len(array)) :\n",
    "    min = i\n",
    "    for j in range(i+1, len(array)) :\n",
    "        if i < j :\n",
    "            min = j\n",
    "        array[i], array[min] = array[min], array[i]\n",
    "\n",
    "# print(array)\n",
    "end_time = time.time()\n",
    "print('수행시간 : ', end_time-start_time)"
   ]
  },
  {
   "cell_type": "code",
   "execution_count": 58,
   "metadata": {},
   "outputs": [
    {
     "name": "stdout",
     "output_type": "stream",
     "text": [
      "500 원 2 개\n",
      "100 원 2 개\n",
      "50 원 1 개\n",
      "10 원 1 개\n"
     ]
    }
   ],
   "source": [
    "n = 1260\n",
    "count = 0\n",
    "coin = [500, 100, 50, 10]\n",
    "\n",
    "for i in range(len(coin)) :\n",
    "    count = n / coin[i]\n",
    "    n = n % coin[i]\n",
    "    print(coin[i],'원', int(count), '개')"
   ]
  },
  {
   "cell_type": "code",
   "execution_count": 61,
   "metadata": {},
   "outputs": [
    {
     "name": "stdout",
     "output_type": "stream",
     "text": [
      "5 5 5 5 5\n"
     ]
    },
    {
     "data": {
      "text/plain": [
       "str"
      ]
     },
     "execution_count": 61,
     "metadata": {},
     "output_type": "execute_result"
    }
   ],
   "source": [
    "data = list(map(int,input().split()))\n",
    "\n",
    "result = data[0]\n",
    "for i in range(1, len(data)) :\n",
    "    num=int(data[i])\n",
    "    result = "
   ]
  }
 ],
 "metadata": {
  "kernelspec": {
   "display_name": "Python 3",
   "language": "python",
   "name": "python3"
  },
  "language_info": {
   "codemirror_mode": {
    "name": "ipython",
    "version": 3
   },
   "file_extension": ".py",
   "mimetype": "text/x-python",
   "name": "python",
   "nbconvert_exporter": "python",
   "pygments_lexer": "ipython3",
   "version": "3.7.4"
  }
 },
 "nbformat": 4,
 "nbformat_minor": 2
}
